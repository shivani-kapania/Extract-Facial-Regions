{
 "cells": [
  {
   "cell_type": "code",
   "execution_count": 1,
   "metadata": {},
   "outputs": [],
   "source": [
    "from collections import OrderedDict\n",
    "import numpy as np\n",
    "import cv2\n",
    "import dlib\n",
    "from facial_landmark_detections import rect_to_bb, shape_to_np, resize"
   ]
  },
  {
   "cell_type": "markdown",
   "metadata": {},
   "source": [
    "Examining the image, we can see that facial regions can be accessed via simple Python indexing (assuming zero-indexing with Python since the image above is one-indexed):\n",
    "\n",
    "The mouth can be accessed through points [48, 68].\n",
    "The right eyebrow through points [17, 22].\n",
    "The left eyebrow through points [22, 27].\n",
    "The right eye using [36, 42].\n",
    "The left eye with [42, 48].\n",
    "The nose using [27, 35].\n",
    "And the jaw via [0, 17].\n",
    "These mappings are encoded inside the FACIAL_LANDMARKS_IDXS  dictionary"
   ]
  },
  {
   "cell_type": "code",
   "execution_count": 2,
   "metadata": {},
   "outputs": [],
   "source": [
    "#dictionary that maps the indexes of the facial landmarks to specific face regions\n",
    "\n",
    "#For dlib’s 68-point facial landmark detector:\n",
    "FACIAL_LANDMARKS_68_IDXS = OrderedDict([\n",
    "    (\"mouth\", (48, 68)),\n",
    "    (\"inner_mouth\", (60, 68)),\n",
    "    (\"right_eyebrow\", (17, 22)),\n",
    "    (\"left_eyebrow\", (22, 27)),\n",
    "    (\"right_eye\", (36, 42)),\n",
    "    (\"left_eye\", (42, 48)),\n",
    "    (\"nose\", (27, 36)),\n",
    "    (\"jaw\", (0, 17))\n",
    "])"
   ]
  },
  {
   "cell_type": "code",
   "execution_count": 3,
   "metadata": {},
   "outputs": [],
   "source": [
    "FACIAL_LANDMARKS_IDXS = FACIAL_LANDMARKS_68_IDXS"
   ]
  },
  {
   "cell_type": "code",
   "execution_count": 4,
   "metadata": {},
   "outputs": [],
   "source": [
    "def visualize_facial_landmarks(image, shape, colors=None, alpha=0.75):\n",
    "    # create two copies of the input image -- one for the\n",
    "    # overlay and one for the final output image\n",
    "    overlay = image.copy()\n",
    "    output = image.copy()\n",
    "\n",
    "    # if the colors list is None, initialize it with a unique\n",
    "    # color for each facial landmark region\n",
    "    if colors is None:\n",
    "        colors = [(19, 199, 109), (79, 76, 240), (230, 159, 23),\n",
    "            (168, 100, 168), (158, 163, 32),\n",
    "            (163, 38, 32), (180, 42, 220), (0,255,255)]\n",
    "\n",
    "    # loop over the facial landmark regions individually\n",
    "    for (i, name) in enumerate(FACIAL_LANDMARKS_IDXS.keys()):\n",
    "        # grab the (x, y)-coordinates associated with the face landmark\n",
    "        (j, k) = FACIAL_LANDMARKS_IDXS[name]\n",
    "        pts = shape[j:k]\n",
    "\n",
    "        # check if are supposed to draw the jawline\n",
    "        if name == \"jaw\":\n",
    "            # since the jawline is a non-enclosed facial region,\n",
    "            # just draw lines between the (x, y)-coordinates\n",
    "            pass\n",
    "            for l in range(1, len(pts)):\n",
    "                ptA = tuple(pts[l - 1])\n",
    "                ptB = tuple(pts[l])\n",
    "                cv2.line(overlay, ptA, ptB, colors[i], 2)\n",
    "\n",
    "        # otherwise, compute the convex hull of the facial\n",
    "        # landmark coordinates points and display it\n",
    "        else:\n",
    "            hull = cv2.convexHull(pts)\n",
    "            cv2.drawContours(overlay, [hull], -1, colors[i], -1)\n",
    "\n",
    "    # apply the transparent overlay\n",
    "    cv2.addWeighted(overlay, alpha, output, 1 - alpha, 0, output)\n",
    "\n",
    "    # return the output image\n",
    "    return output"
   ]
  },
  {
   "cell_type": "code",
   "execution_count": 5,
   "metadata": {},
   "outputs": [
    {
     "name": "stdout",
     "output_type": "stream",
     "text": [
      "0 mouth\n",
      "1 inner_mouth\n",
      "2 right_eyebrow\n",
      "3 left_eyebrow\n",
      "4 right_eye\n",
      "5 left_eye\n",
      "6 nose\n",
      "7 jaw\n"
     ]
    }
   ],
   "source": [
    "for (i, name) in enumerate(FACIAL_LANDMARKS_IDXS.keys()):\n",
    "        # grab the (x, y)-coordinates associated with the\n",
    "        # face landmark\n",
    "        print(str(i)+\" \"+name)"
   ]
  },
  {
   "cell_type": "code",
   "execution_count": 6,
   "metadata": {},
   "outputs": [
    {
     "data": {
      "text/plain": [
       "(48, 68)"
      ]
     },
     "execution_count": 6,
     "metadata": {},
     "output_type": "execute_result"
    }
   ],
   "source": [
    "FACIAL_LANDMARKS_IDXS['mouth']"
   ]
  },
  {
   "cell_type": "code",
   "execution_count": 7,
   "metadata": {},
   "outputs": [],
   "source": [
    "# initialize dlib's face detector (HOG-based) and then create\n",
    "# the facial landmark predictor\n",
    "detector = dlib.get_frontal_face_detector()\n",
    "predictor = dlib.shape_predictor('shape_predictor_68_face_landmarks.dat')"
   ]
  },
  {
   "cell_type": "code",
   "execution_count": 8,
   "metadata": {},
   "outputs": [],
   "source": [
    "# load the input image, resize it, and convert it to grayscale\n",
    "image = cv2.imread('images/example_01.jpeg')\n",
    "image = resize(image, width=500)\n",
    "gray = cv2.cvtColor(image, cv2.COLOR_BGR2GRAY)\n",
    " \n",
    "# detect faces in the grayscale image\n",
    "rects = detector(gray, 1)"
   ]
  },
  {
   "cell_type": "code",
   "execution_count": 11,
   "metadata": {},
   "outputs": [
    {
     "data": {
      "text/plain": [
       "100"
      ]
     },
     "execution_count": 11,
     "metadata": {},
     "output_type": "execute_result"
    }
   ],
   "source": [
    "# loop over the face detections\n",
    "for (i, rect) in enumerate(rects):\n",
    "    # determine the facial landmarks for the face region, then\n",
    "    # convert the landmark (x, y)-coordinates to a NumPy array\n",
    "    shape = predictor(gray, rect)\n",
    "    shape = shape_to_np(shape)\n",
    " \n",
    "    # loop over the face parts individually\n",
    "    for (name, (i, j)) in FACIAL_LANDMARKS_IDXS.items():\n",
    "        # clone the original image so we can draw on it, then\n",
    "        # display the name of the face part on the image\n",
    "        clone = image.copy()\n",
    "        cv2.putText(clone, name, (10, 30), cv2.FONT_HERSHEY_SIMPLEX, 0.7, (0, 0, 255), 2)\n",
    " \n",
    "        # loop over the subset of facial landmarks, drawing the\n",
    "        # specific face part\n",
    "        for (x, y) in shape[i:j]:\n",
    "            cv2.circle(clone, (x, y), 1, (0, 0, 255), -1)\n",
    "        # extract the ROI of the face region as a separate image\n",
    "        (x, y, w, h) = cv2.boundingRect(np.array([shape[i:j]]))\n",
    "        roi = image[y:y + h, x:x + w]\n",
    "        roi = resize(roi, width=250, inter=cv2.INTER_CUBIC)\n",
    " \n",
    "        #show the particular face part\n",
    "        cv2.imshow(\"ROI\", roi)\n",
    "        cv2.imshow(\"Image\", clone)\n",
    "        cv2.waitKey(0)\n",
    " \n",
    "    # visualize all facial landmarks with a transparent overlay\n",
    "    output = visualize_facial_landmarks(image, shape)\n",
    "    cv2.imshow(\"Image\", output)\n",
    "    cv2.waitKey(0)\n",
    "\n",
    "cv2.waitKey(0)"
   ]
  },
  {
   "cell_type": "code",
   "execution_count": 19,
   "metadata": {},
   "outputs": [
    {
     "data": {
      "text/plain": [
       "rectangles[[(111, 142) (379, 409)]]"
      ]
     },
     "execution_count": 19,
     "metadata": {},
     "output_type": "execute_result"
    }
   ],
   "source": [
    "rects"
   ]
  },
  {
   "cell_type": "code",
   "execution_count": null,
   "metadata": {},
   "outputs": [],
   "source": []
  }
 ],
 "metadata": {
  "kernelspec": {
   "display_name": "Python 3",
   "language": "python",
   "name": "python3"
  },
  "language_info": {
   "codemirror_mode": {
    "name": "ipython",
    "version": 3
   },
   "file_extension": ".py",
   "mimetype": "text/x-python",
   "name": "python",
   "nbconvert_exporter": "python",
   "pygments_lexer": "ipython3",
   "version": "3.7.2"
  }
 },
 "nbformat": 4,
 "nbformat_minor": 2
}
